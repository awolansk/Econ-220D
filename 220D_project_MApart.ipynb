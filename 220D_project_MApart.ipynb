{
 "cells": [
  {
   "cell_type": "code",
   "execution_count": 1,
   "metadata": {},
   "outputs": [
    {
     "data": {
      "text/html": [
       "    <script id=\"webio-setup-10599838882605587094\">\n",
       "    // Immediately-invoked-function-expression to avoid global variables.\n",
       "    (function() {\n",
       "        var warning_div = document.getElementById(\"webio-warning-14107134065396156888\");\n",
       "        var hide = function () {\n",
       "            var script = document.getElementById(\"webio-setup-10599838882605587094\");\n",
       "            var parent = script && script.parentElement;\n",
       "            var grandparent = parent && parent.parentElement;\n",
       "            if (grandparent) {\n",
       "                grandparent.style.display = \"none\";\n",
       "            }\n",
       "            warning_div.style.display = \"none\";\n",
       "        };\n",
       "        if (window.require && require.defined) {\n",
       "            // Jupyter notebook.\n",
       "            if (require.defined(\"nbextensions/webio/main\")\n",
       "                    || require.defined(\"/assetserver/9d02ba3de810d28758c40d4d1881f07994467157-dist/main.js\")) {\n",
       "                // Extension already loaded.\n",
       "                hide();\n",
       "                return;\n",
       "            }\n",
       "            console.warn(\"Loading WebIO Jupyter extension on an ad-hoc basis. Consider enabling the WebIO nbextension for a stabler experience (this should happen automatically when building WebIO).\");\n",
       "            require([\"/assetserver/9d02ba3de810d28758c40d4d1881f07994467157-dist/main.js\"], function (webIOModule) {\n",
       "                webIOModule.load_ipython_extension();\n",
       "            });\n",
       "            warning_div.innerHTML = \"<strong>Loading WebIO Jupyter extension on an ad-hoc basis. Consider enabling the WebIO nbextension for a stabler experience (this should happen automatically when building WebIO).</strong>\";\n",
       "        } else if (window.location.pathname.includes(\"/lab\")) {\n",
       "            // Guessing JupyterLab\n",
       "            warning_div.innerHTML = \"WebIO does not support JupyterLab yet.\";\n",
       "        }\n",
       "    })();\n",
       "    </script>\n",
       "    <div\n",
       "        id=\"webio-warning-14107134065396156888\"\n",
       "        class=\"output_text output_stderr\"\n",
       "        style=\"padding: 1em; font-weight: bold;\"\n",
       "    >\n",
       "        Unable to load WebIO. Please make sure WebIO works for your Jupyter client.\n",
       "        <!-- TODO: link to installation docs. -->\n",
       "    </div>\n"
      ],
      "text/plain": [
       "HTML{String}(\"    <script id=\\\"webio-setup-10599838882605587094\\\">\\n    // Immediately-invoked-function-expression to avoid global variables.\\n    (function() {\\n        var warning_div = document.getElementById(\\\"webio-warning-14107134065396156888\\\");\\n        var hide = function () {\\n            var script = document.getElementById(\\\"webio-setup-10599838882605587094\\\");\\n            var parent = script && script.parentElement;\\n            var grandparent = parent && parent.parentElement;\\n            if (grandparent) {\\n                grandparent.style.display = \\\"none\\\";\\n            }\\n            warning_div.style.display = \\\"none\\\";\\n        };\\n        if (window.require && require.defined) {\\n            // Jupyter notebook.\\n            if (require.defined(\\\"nbextensions/webio/main\\\")\\n                    || require.defined(\\\"/assetserver/9d02ba3de810d28758c40d4d1881f07994467157-dist/main.js\\\")) {\\n                // Extension already loaded.\\n                hide();\\n                return;\\n            }\\n            console.warn(\\\"Loading WebIO Jupyter extension on an ad-hoc basis. Consider enabling the WebIO nbextension for a stabler experience (this should happen automatically when building WebIO).\\\");\\n            require([\\\"/assetserver/9d02ba3de810d28758c40d4d1881f07994467157-dist/main.js\\\"], function (webIOModule) {\\n                webIOModule.load_ipython_extension();\\n            });\\n            warning_div.innerHTML = \\\"<strong>Loading WebIO Jupyter extension on an ad-hoc basis. Consider enabling the WebIO nbextension for a stabler experience (this should happen automatically when building WebIO).</strong>\\\";\\n        } else if (window.location.pathname.includes(\\\"/lab\\\")) {\\n            // Guessing JupyterLab\\n            warning_div.innerHTML = \\\"WebIO does not support JupyterLab yet.\\\";\\n        }\\n    })();\\n    </script>\\n    <div\\n        id=\\\"webio-warning-14107134065396156888\\\"\\n        class=\\\"output_text output_stderr\\\"\\n        style=\\\"padding: 1em; font-weight: bold;\\\"\\n    >\\n        Unable to load WebIO. Please make sure WebIO works for your Jupyter client.\\n        <!-- TODO: link to installation docs. -->\\n    </div>\\n\")"
      ]
     },
     "metadata": {},
     "output_type": "display_data"
    },
    {
     "name": "stderr",
     "output_type": "stream",
     "text": [
      "┌ Warning: IJulia doesn't have register_mime; WebIO may not work as expected. Please upgrade to IJulia v1.13.0 or greater.\n",
      "└ @ WebIO C:\\Users\\adwol\\.julia\\packages\\WebIO\\NYISm\\src\\providers\\ijulia.jl:38\n"
     ]
    }
   ],
   "source": [
    "using Compat, Distributions, Plots, LaTeXStrings, PyCall, Plotly"
   ]
  },
  {
   "cell_type": "code",
   "execution_count": 2,
   "metadata": {},
   "outputs": [
    {
     "data": {
      "text/plain": [
       "ols (generic function with 1 method)"
      ]
     },
     "execution_count": 2,
     "metadata": {},
     "output_type": "execute_result"
    }
   ],
   "source": [
    "function ols(a,b)\n",
    "    k = length(b[:,1])\n",
    "    beta = inv(b'*b)*(b'*a)\n",
    "    e = a-b*beta\n",
    "    varcov = (e'*e/k)*inv(b'*b)\n",
    "    t = beta[1]/sqrt(varcov[1,1])\n",
    "    [beta[1] t]\n",
    "end"
   ]
  },
  {
   "cell_type": "markdown",
   "metadata": {},
   "source": [
    "In this part of the simulation, we show that it is important to include lagged first differences of the dependent variable $y_t$ into the regression when the error term has $MA(q)$ structure to it. If those lags are not included, the quick and seamless convergence that we observed in the simple ARCH case will not be repeated here. Observe the simulations below."
   ]
  },
  {
   "cell_type": "code",
   "execution_count": 3,
   "metadata": {},
   "outputs": [
    {
     "data": {
      "text/plain": [
       "1000"
      ]
     },
     "execution_count": 3,
     "metadata": {},
     "output_type": "execute_result"
    }
   ],
   "source": [
    "nrep = 10000\n",
    "d = Normal()\n",
    "q = 100\n",
    "T = 1000"
   ]
  },
  {
   "cell_type": "code",
   "execution_count": 4,
   "metadata": {
    "collapsed": true
   },
   "outputs": [],
   "source": [
    "beta_hat = zeros(1,nrep)\n",
    "t_stat = zeros(1,nrep)\n",
    "for n = 1:nrep\n",
    "    y = zeros(1,T)\n",
    "    coef = ones(q)\n",
    "    for j=1:q\n",
    "        coef[j] = 1/j\n",
    "    end\n",
    "    epsilon = randn(1,T+q)\n",
    "    for t = 1:T-1\n",
    "        y[t+1] = y[t]\n",
    "        for j = 1:q\n",
    "            y[t+1] = y[t+1] + coef[j]*epsilon[t+q+2-j]\n",
    "        end\n",
    "    end\n",
    "    p = 0\n",
    "    x = zeros(T-p-1,p+1)\n",
    "    x[:,1] = y[p+1:T-1]\n",
    "    for i = 2:p+1\n",
    "       x[:,i] = y[i:T-p-2+i]-y[i-1:T-p-3+i]\n",
    "    end\n",
    "    z = y[p+2:T]-y[p+1:T-1]\n",
    "    ols(z,x)\n",
    "    beta_hat[n] = ols(z,x)[1]\n",
    "    t_stat[n] = ols(z,x)[2]\n",
    "end"
   ]
  },
  {
   "cell_type": "markdown",
   "metadata": {},
   "source": [
    "Above is a similar data generation process to the one we used in the first part of the code, with the exception that now the error term is generated using a 100-long MA process of white noises. For simplicity, we assume that the $j$-th coefficient in this process is equal to $\\frac{1}{j}$, making it accord with the assumptions of the studied paper."
   ]
  },
  {
   "cell_type": "code",
   "execution_count": 5,
   "metadata": {},
   "outputs": [
    {
     "data": {
      "image/png": "[encoded data removed]"
     },
     "execution_count": 5,
     "metadata": {},
     "output_type": "execute_result"
    }
   ],
   "source": [
    "Plots.pyplot()\n",
    "Plots.histogram(t_stat',\n",
    "    bins = 50,        \n",
    "    layout=1,\n",
    "            legend=:none,\n",
    "            titlefont=Plots.font(9))"
   ]
  },
  {
   "cell_type": "code",
   "execution_count": 6,
   "metadata": {},
   "outputs": [
    {
     "data": {
      "text/plain": [
       "(::ef) (generic function with 2 methods)"
      ]
     },
     "execution_count": 6,
     "metadata": {},
     "output_type": "execute_result"
    }
   ],
   "source": [
    "using StatsBase\n",
    "\n",
    "tdraws = t_stat[1:nrep]\n",
    "f = ecdf(tdraws)"
   ]
  },
  {
   "cell_type": "markdown",
   "metadata": {},
   "source": [
    "Here we will quickly generate the supposed asymptotic distribution of our $t$-statistic."
   ]
  },
  {
   "cell_type": "code",
   "execution_count": 7,
   "metadata": {},
   "outputs": [
    {
     "data": {
      "text/plain": [
       "(::ef) (generic function with 2 methods)"
      ]
     },
     "execution_count": 7,
     "metadata": {},
     "output_type": "execute_result"
    }
   ],
   "source": [
    "G = 1000\n",
    "u = 0:1/G:1\n",
    "N = 1000\n",
    "KLbasis = zeros(N,G+1)\n",
    "for k = 1:N\n",
    "   KLbasis[k,:] = (sqrt(2)/((k-.5)*pi))*sin.((k-.5)*pi*u) \n",
    "end\n",
    "\n",
    "draws = zeros(nrep)\n",
    "for i = 1:nrep\n",
    "    B = randn(1,N)*KLbasis\n",
    "    B2 = B.^2\n",
    "    d = (0.5*(B[1,G+1]^2-1))./sqrt.(sum(B2)/G)\n",
    "    draws[i] = d[1,1]\n",
    "end\n",
    "\n",
    "g = ecdf(draws)"
   ]
  },
  {
   "cell_type": "code",
   "execution_count": 8,
   "metadata": {},
   "outputs": [
    {
     "data": {
      "image/png": "[encoded data removed]"
     },
     "execution_count": 8,
     "metadata": {},
     "output_type": "execute_result"
    }
   ],
   "source": [
    "Plots.histogram(draws,\n",
    "    bins = 50,        \n",
    "    layout=1,\n",
    "            legend=:none,\n",
    "            titlefont=Plots.font(9))"
   ]
  },
  {
   "cell_type": "markdown",
   "metadata": {},
   "source": [
    "Above is the histogram of the supposed asymptotic distribution. It is even visually drastically different from the simulated distribution of $t$-statistics that we obtained a little higher above. Let us run the Kolmogorov-Smirnov nonparametric test of whether the two obtained distributions are the same, since it will be useful to compare it numerically to subsequent simulations:"
   ]
  },
  {
   "cell_type": "code",
   "execution_count": 9,
   "metadata": {},
   "outputs": [
    {
     "data": {
      "text/plain": [
       "0.5189"
      ]
     },
     "execution_count": 9,
     "metadata": {},
     "output_type": "execute_result"
    }
   ],
   "source": [
    "diff = 0\n",
    "set = -20:1/10:20\n",
    "for i=1:length(set)\n",
    "    if abs(f(set[i])-g(set[i]))>diff\n",
    "        diff = abs(f(set[i])-g(set[i]))\n",
    "    end\n",
    "end\n",
    "diff"
   ]
  },
  {
   "cell_type": "markdown",
   "metadata": {},
   "source": [
    "As we see, the two distributions are significantly different from each other, with the highest difference between cdfs being at least $0.5$, even though the sample size is pretty big ($T=1000$). The reason for that lies in us not including any first differences of the dependent variable into the regression, making the resulting coefficients more biased (seemingly towards the positive end). \n",
    "\n",
    "Let us now try to include several (say, $30$) lagged differences of the dependent variable into the regression, and then compare the resulting distributions again."
   ]
  },
  {
   "cell_type": "code",
   "execution_count": 10,
   "metadata": {
    "collapsed": true
   },
   "outputs": [],
   "source": [
    "beta_hat = zeros(1,nrep)\n",
    "t_stat = zeros(1,nrep)\n",
    "for n = 1:nrep\n",
    "    y = zeros(1,T)\n",
    "    coef = ones(q)\n",
    "    for j=1:q\n",
    "        coef[j] = 1/j\n",
    "    end\n",
    "    epsilon = randn(1,T+q)\n",
    "    for t = 1:T-1\n",
    "        y[t+1] = y[t]\n",
    "        for j = 1:q\n",
    "            y[t+1] = y[t+1] + coef[j]*epsilon[t+q+2-j]\n",
    "        end\n",
    "    end\n",
    "    p = 30\n",
    "    x = zeros(T-p-1,p+1)\n",
    "    x[:,1] = y[p+1:T-1]\n",
    "    for i = 2:p+1\n",
    "       x[:,i] = y[i:T-p-2+i]-y[i-1:T-p-3+i]\n",
    "    end\n",
    "    z = y[p+2:T]-y[p+1:T-1]\n",
    "    ols(z,x)\n",
    "    beta_hat[n] = ols(z,x)[1]\n",
    "    t_stat[n] = ols(z,x)[2]\n",
    "end"
   ]
  },
  {
   "cell_type": "code",
   "execution_count": 11,
   "metadata": {},
   "outputs": [
    {
     "data": {
      "image/png": "[encoded data removed]"
     },
     "execution_count": 11,
     "metadata": {},
     "output_type": "execute_result"
    }
   ],
   "source": [
    "Plots.pyplot()\n",
    "Plots.histogram(t_stat',\n",
    "    bins = 50,        \n",
    "    layout=1,\n",
    "            legend=:none,\n",
    "            titlefont=Plots.font(9))"
   ]
  },
  {
   "cell_type": "code",
   "execution_count": 12,
   "metadata": {},
   "outputs": [
    {
     "data": {
      "text/plain": [
       "0.05480000000000007"
      ]
     },
     "execution_count": 12,
     "metadata": {},
     "output_type": "execute_result"
    }
   ],
   "source": [
    "tdraws = t_stat[1:nrep]\n",
    "f = ecdf(tdraws)\n",
    "\n",
    "diff = 0\n",
    "set = -20:1/10:20\n",
    "for i=1:length(set)\n",
    "    if abs(f(set[i])-g(set[i]))>diff\n",
    "        diff = abs(f(set[i])-g(set[i]))\n",
    "    end\n",
    "end\n",
    "diff"
   ]
  },
  {
   "cell_type": "markdown",
   "metadata": {},
   "source": [
    "The discrepancy between the two distributions has been substantially reduced. If we increase the number of lags we include, the convergence will become clear. Here are the same simulations with $70$ and $100$ lags included."
   ]
  },
  {
   "cell_type": "code",
   "execution_count": 20,
   "metadata": {},
   "outputs": [],
   "source": [
    "beta_hat = zeros(1,nrep)\n",
    "t_stat = zeros(1,nrep)\n",
    "for n = 1:nrep\n",
    "    y = zeros(1,T)\n",
    "    coef = ones(q)\n",
    "    for j=1:q\n",
    "        coef[j] = 1/j\n",
    "    end\n",
    "    epsilon = randn(1,T+q)\n",
    "    for t = 1:T-1\n",
    "        y[t+1] = y[t]\n",
    "        for j = 1:q\n",
    "            y[t+1] = y[t+1] + coef[j]*epsilon[t+q+2-j]\n",
    "        end\n",
    "    end\n",
    "    p = 70\n",
    "    x = zeros(T-p-1,p+1)\n",
    "    x[:,1] = y[p+1:T-1]\n",
    "    for i = 2:p+1\n",
    "       x[:,i] = y[i:T-p-2+i]-y[i-1:T-p-3+i]\n",
    "    end\n",
    "    z = y[p+2:T]-y[p+1:T-1]\n",
    "    ols(z,x)\n",
    "    beta_hat[n] = ols(z,x)[1]\n",
    "    t_stat[n] = ols(z,x)[2]\n",
    "end"
   ]
  },
  {
   "cell_type": "code",
   "execution_count": 21,
   "metadata": {},
   "outputs": [
    {
     "data": {
      "image/png": "[encoded data removed]"
     },
     "execution_count": 21,
     "metadata": {},
     "output_type": "execute_result"
    }
   ],
   "source": [
    "Plots.pyplot()\n",
    "Plots.histogram(t_stat',\n",
    "    bins = 50,        \n",
    "    layout=1,\n",
    "            legend=:none,\n",
    "            titlefont=Plots.font(9))"
   ]
  },
  {
   "cell_type": "code",
   "execution_count": 22,
   "metadata": {},
   "outputs": [
    {
     "data": {
      "text/plain": [
       "0.022699999999999998"
      ]
     },
     "execution_count": 22,
     "metadata": {},
     "output_type": "execute_result"
    }
   ],
   "source": [
    "tdraws = t_stat[1:nrep]\n",
    "f = ecdf(tdraws)\n",
    "\n",
    "diff = 0\n",
    "set = -20:1/10:20\n",
    "for i=1:length(set)\n",
    "    if abs(f(set[i])-g(set[i]))>diff\n",
    "        diff = abs(f(set[i])-g(set[i]))\n",
    "    end\n",
    "end\n",
    "diff"
   ]
  },
  {
   "cell_type": "code",
   "execution_count": 23,
   "metadata": {},
   "outputs": [],
   "source": [
    "beta_hat = zeros(1,nrep)\n",
    "t_stat = zeros(1,nrep)\n",
    "for n = 1:nrep\n",
    "    y = zeros(1,T)\n",
    "    coef = ones(q)\n",
    "    for j=1:q\n",
    "        coef[j] = 1/j\n",
    "    end\n",
    "    epsilon = randn(1,T+q)\n",
    "    for t = 1:T-1\n",
    "        y[t+1] = y[t]\n",
    "        for j = 1:q\n",
    "            y[t+1] = y[t+1] + coef[j]*epsilon[t+q+2-j]\n",
    "        end\n",
    "    end\n",
    "    p = 100\n",
    "    x = zeros(T-p-1,p+1)\n",
    "    x[:,1] = y[p+1:T-1]\n",
    "    for i = 2:p+1\n",
    "       x[:,i] = y[i:T-p-2+i]-y[i-1:T-p-3+i]\n",
    "    end\n",
    "    z = y[p+2:T]-y[p+1:T-1]\n",
    "    ols(z,x)\n",
    "    beta_hat[n] = ols(z,x)[1]\n",
    "    t_stat[n] = ols(z,x)[2]\n",
    "end"
   ]
  },
  {
   "cell_type": "code",
   "execution_count": 24,
   "metadata": {},
   "outputs": [
    {
     "data": {
      "image/png": "[encoded data removed]"
     },
     "execution_count": 24,
     "metadata": {},
     "output_type": "execute_result"
    }
   ],
   "source": [
    "Plots.pyplot()\n",
    "Plots.histogram(t_stat',\n",
    "    bins = 50,        \n",
    "    layout=1,\n",
    "            legend=:none,\n",
    "            titlefont=Plots.font(9))"
   ]
  },
  {
   "cell_type": "code",
   "execution_count": 25,
   "metadata": {},
   "outputs": [
    {
     "data": {
      "text/plain": [
       "0.03610000000000002"
      ]
     },
     "execution_count": 25,
     "metadata": {},
     "output_type": "execute_result"
    }
   ],
   "source": [
    "tdraws = t_stat[1:nrep]\n",
    "f = ecdf(tdraws)\n",
    "\n",
    "diff = 0\n",
    "set = -20:1/10:20\n",
    "for i=1:length(set)\n",
    "    if abs(f(set[i])-g(set[i]))>diff\n",
    "        diff = abs(f(set[i])-g(set[i]))\n",
    "    end\n",
    "end\n",
    "diff"
   ]
  },
  {
   "cell_type": "code",
   "execution_count": null,
   "metadata": {
    "collapsed": true
   },
   "outputs": [],
   "source": []
  }
 ],
 "metadata": {
  "kernelspec": {
   "display_name": "Julia 1.0.1",
   "language": "julia",
   "name": "julia-1.0"
  },
  "language_info": {
   "file_extension": ".jl",
   "mimetype": "application/julia",
   "name": "julia",
   "version": "1.0.1"
  }
 },
 "nbformat": 4,
 "nbformat_minor": 2
}
