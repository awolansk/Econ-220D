{
 "cells": [
  {
   "cell_type": "code",
   "execution_count": 35,
   "metadata": {},
   "outputs": [
    {
     "name": "stdout",
     "output_type": "stream",
     "text": [
      "\u001b[32m\u001b[1m Resolving\u001b[22m\u001b[39m package versions...\n",
      "\u001b[32m\u001b[1m  Updating\u001b[22m\u001b[39m `C:\\Users\\adwol\\.julia\\environments\\v1.0\\Project.toml`\n",
      "\u001b[90m [no changes]\u001b[39m\n",
      "\u001b[32m\u001b[1m  Updating\u001b[22m\u001b[39m `C:\\Users\\adwol\\.julia\\environments\\v1.0\\Manifest.toml`\n",
      "\u001b[90m [no changes]\u001b[39m\n",
      "\u001b[32m\u001b[1m Resolving\u001b[22m\u001b[39m package versions...\n",
      "\u001b[32m\u001b[1m  Updating\u001b[22m\u001b[39m `C:\\Users\\adwol\\.julia\\environments\\v1.0\\Project.toml`\n",
      "\u001b[90m [no changes]\u001b[39m\n",
      "\u001b[32m\u001b[1m  Updating\u001b[22m\u001b[39m `C:\\Users\\adwol\\.julia\\environments\\v1.0\\Manifest.toml`\n",
      "\u001b[90m [no changes]\u001b[39m\n",
      "\u001b[32m\u001b[1m Resolving\u001b[22m\u001b[39m package versions...\n",
      "\u001b[32m\u001b[1m  Updating\u001b[22m\u001b[39m `C:\\Users\\adwol\\.julia\\environments\\v1.0\\Project.toml`\n",
      "\u001b[90m [no changes]\u001b[39m\n",
      "\u001b[32m\u001b[1m  Updating\u001b[22m\u001b[39m `C:\\Users\\adwol\\.julia\\environments\\v1.0\\Manifest.toml`\n",
      "\u001b[90m [no changes]\u001b[39m\n",
      "\u001b[32m\u001b[1m Resolving\u001b[22m\u001b[39m package versions...\n",
      "\u001b[32m\u001b[1m  Updating\u001b[22m\u001b[39m `C:\\Users\\adwol\\.julia\\environments\\v1.0\\Project.toml`\n",
      "\u001b[90m [no changes]\u001b[39m\n",
      "\u001b[32m\u001b[1m  Updating\u001b[22m\u001b[39m `C:\\Users\\adwol\\.julia\\environments\\v1.0\\Manifest.toml`\n",
      "\u001b[90m [no changes]\u001b[39m\n",
      "\u001b[32m\u001b[1m Resolving\u001b[22m\u001b[39m package versions...\n",
      "\u001b[32m\u001b[1m  Updating\u001b[22m\u001b[39m `C:\\Users\\adwol\\.julia\\environments\\v1.0\\Project.toml`\n",
      "\u001b[90m [no changes]\u001b[39m\n",
      "\u001b[32m\u001b[1m  Updating\u001b[22m\u001b[39m `C:\\Users\\adwol\\.julia\\environments\\v1.0\\Manifest.toml`\n",
      "\u001b[90m [no changes]\u001b[39m\n",
      "\u001b[32m\u001b[1m Resolving\u001b[22m\u001b[39m package versions...\n",
      "\u001b[32m\u001b[1m  Updating\u001b[22m\u001b[39m `C:\\Users\\adwol\\.julia\\environments\\v1.0\\Project.toml`\n",
      "\u001b[90m [no changes]\u001b[39m\n",
      "\u001b[32m\u001b[1m  Updating\u001b[22m\u001b[39m `C:\\Users\\adwol\\.julia\\environments\\v1.0\\Manifest.toml`\n",
      "\u001b[90m [no changes]\u001b[39m\n",
      "\u001b[32m\u001b[1m Resolving\u001b[22m\u001b[39m package versions...\n",
      "\u001b[32m\u001b[1m  Updating\u001b[22m\u001b[39m `C:\\Users\\adwol\\.julia\\environments\\v1.0\\Project.toml`\n",
      "\u001b[90m [no changes]\u001b[39m\n",
      "\u001b[32m\u001b[1m  Updating\u001b[22m\u001b[39m `C:\\Users\\adwol\\.julia\\environments\\v1.0\\Manifest.toml`\n",
      "\u001b[90m [no changes]\u001b[39m\n"
     ]
    }
   ],
   "source": [
    "import Pkg; Pkg.add(\"Compat\")\n",
    "import Pkg; Pkg.add(\"Random\")\n",
    "import Pkg; Pkg.add(\"Distributions\")\n",
    "import Pkg; Pkg.add(\"Plots\")\n",
    "import Pkg; Pkg.add(\"LaTeXStrings\")\n",
    "import Pkg; Pkg.add(\"PyCall\")\n",
    "import Pkg; Pkg.add(\"Plotly\")"
   ]
  },
  {
   "cell_type": "code",
   "execution_count": 36,
   "metadata": {},
   "outputs": [],
   "source": [
    "using Compat, Distributions, Plots, LaTeXStrings, PyCall, Plotly"
   ]
  },
  {
   "cell_type": "markdown",
   "metadata": {},
   "source": [
    "Initialize parameters"
   ]
  },
  {
   "cell_type": "code",
   "execution_count": 61,
   "metadata": {},
   "outputs": [],
   "source": [
    "nrep = 10000\n",
    "nobs = [50 100 200 500 1000 5000]\n",
    "alpha_0 = 1\n",
    "alpha_1 = 1\n",
    "coef = zeros(nrep,length(nobs))\n",
    "tstat = zeros(nrep,length(nobs));"
   ]
  },
  {
   "cell_type": "code",
   "execution_count": 38,
   "metadata": {},
   "outputs": [
    {
     "data": {
      "text/plain": [
       "ols (generic function with 1 method)"
      ]
     },
     "execution_count": 38,
     "metadata": {},
     "output_type": "execute_result"
    }
   ],
   "source": [
    "function ols(a,b)\n",
    "    k = length(b[:,1])\n",
    "    beta = inv(b'*b)*(b'*a)\n",
    "    e = a-b*beta\n",
    "    varcov = (e'*e/k)*inv(b'*b)\n",
    "    t = beta[1]/sqrt(varcov[1,1])\n",
    "    [beta[1] t]\n",
    "end"
   ]
  },
  {
   "cell_type": "markdown",
   "metadata": {},
   "source": [
    "Now we generate the data and perform the OLS regressions. Note that we will run the following regression,\n",
    "\n",
    "\\begin{equation}\n",
    "\\Delta y_t = \\beta y_{t-1} + \\sum_{i = 1}^{p}{\\beta_i \\Delta y_{t-i}} + \\epsilon_{p,t}\n",
    "\\end{equation}\n",
    "\n",
    "Therefore, the unit root test is then a test that $\\beta = 0$ (which is what the t statistic in the OLS function above will test for)."
   ]
  },
  {
   "cell_type": "code",
   "execution_count": 65,
   "metadata": {},
   "outputs": [],
   "source": [
    "for i = 1:nrep\n",
    "    for j = 1:length(nobs)\n",
    "        n = nobs[j]\n",
    "        y = zeros(1,n)\n",
    "        epsilon = randn(1,n)\n",
    "        for t = 1:n-1\n",
    "            y[t+1] = y[t] + epsilon[t+1]*sqrt(alpha_0 + alpha_1*epsilon[t]^2)\n",
    "        end\n",
    "        p = 5\n",
    "        x = zeros(n-p-1,p+1)\n",
    "        x[:,1] = y[p+1:n-1]\n",
    "        for i = 2:p+1\n",
    "           x[:,i] = y[i:n-p-2+i]-y[i-1:n-p-3+i]\n",
    "        end\n",
    "        z = y[p+2:n]-y[p+1:n-1]\n",
    "        (coef[i,j], tstat[i,j]) = ols(z,x)\n",
    "    end\n",
    "end"
   ]
  },
  {
   "cell_type": "markdown",
   "metadata": {},
   "source": [
    "We now plot the distributions of the OLS t statistics that we computed above. Unfortunately, Adrian is very bad with Julia and could not figure out how to write titles on the histograms, so please note that sample size increases as we move to the right and down in the set of histograms (so the top line has sample sizes of 50, 100, and 200, while the bottom line has sample sizes of 500, 1000, and 5000)."
   ]
  },
  {
   "cell_type": "code",
   "execution_count": 128,
   "metadata": {},
   "outputs": [
    {
     "data": {
      "image/png": "[encoded data removed]"
     },
     "execution_count": 128,
     "metadata": {},
     "output_type": "execute_result"
    }
   ],
   "source": [
    "Plots.pyplot()\n",
    "\n",
    "titles = Array{String}(undef, 1, length(nobs))\n",
    "for i = 1:length(nobs)\n",
    "    t = string(L\"$T = $\", nobs[i])\n",
    "    titles[i] = t\n",
    "end\n",
    "Plots.histogram(tstat,\n",
    "            layout=length(nobs),\n",
    "            title = titles,\n",
    "            legend=:none,\n",
    "            titlefont=Plots.font(9))"
   ]
  },
  {
   "cell_type": "code",
   "execution_count": 71,
   "metadata": {},
   "outputs": [
    {
     "data": {
      "text/plain": [
       "Plots.PyPlotBackend()"
      ]
     },
     "execution_count": 71,
     "metadata": {},
     "output_type": "execute_result"
    }
   ],
   "source": [
    "nrep = 10000\n",
    "\n",
    "import Plots\n",
    "Plots.pyplot()"
   ]
  },
  {
   "cell_type": "markdown",
   "metadata": {},
   "source": [
    "In the following, we create a matrix of Karhunen-Loeve basis functions that will be needed later for generating the Brownian motions."
   ]
  },
  {
   "cell_type": "code",
   "execution_count": 72,
   "metadata": {},
   "outputs": [],
   "source": [
    "G = 1000\n",
    "u = 0:1/G:1\n",
    "N = 1000\n",
    "KLbasis = zeros(N,G+1)\n",
    "for k = 1:N\n",
    "   KLbasis[k,:] = (sqrt(2)/((k-.5)*pi))*sin.((k-.5)*pi*u) \n",
    "\n",
    "end"
   ]
  },
  {
   "cell_type": "markdown",
   "metadata": {
    "scrolled": false
   },
   "source": [
    "Now we generate the supposed asymptotic distribution of our t-statistics, which is given by\n",
    "\\begin{equation}\n",
    "\\frac{\\int_0^1 W(t)\\mathrm{d}W(t)}{\\int_0^1 W(t)^2 \\mathrm{d}t}=\\frac{\\frac{1}{2}\\left(W(1)^2-1\\right)}{\\left(\\int_0^1W(t)^2 \\mathrm{d}t\\right)^{1/2}}\n",
    "\\end{equation}\n",
    "where $W(\\cdot)$ is the Brownian motion."
   ]
  },
  {
   "cell_type": "code",
   "execution_count": 73,
   "metadata": {},
   "outputs": [
    {
     "data": {
      "image/png": "[encoded data removed]"
     },
     "execution_count": 73,
     "metadata": {},
     "output_type": "execute_result"
    }
   ],
   "source": [
    "draws = zeros(nrep)\n",
    "for i = 1:nrep\n",
    "    B = randn(1,N)*KLbasis\n",
    "    B2 = B.^2\n",
    "    x = (0.5*(B[1,G+1]^2-1))./sqrt.(sum(B2)/G)\n",
    "    draws[i] = x[1,1]\n",
    "end\n",
    "\n",
    "Plots.histogram(draws)"
   ]
  },
  {
   "cell_type": "markdown",
   "metadata": {
    "collapsed": true
   },
   "source": [
    "We can see that the distributions are the same."
   ]
  }
 ],
 "metadata": {
  "kernelspec": {
   "display_name": "Julia 1.0.1",
   "language": "julia",
   "name": "julia-1.0"
  },
  "language_info": {
   "file_extension": ".jl",
   "mimetype": "application/julia",
   "name": "julia",
   "version": "1.0.1"
  }
 },
 "nbformat": 4,
 "nbformat_minor": 2
}
